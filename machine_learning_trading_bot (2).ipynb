{
  "nbformat": 4,
  "nbformat_minor": 0,
  "metadata": {
    "kernelspec": {
      "display_name": "dev",
      "language": "python",
      "name": "dev"
    },
    "language_info": {
      "codemirror_mode": {
        "name": "ipython",
        "version": 3
      },
      "file_extension": ".py",
      "mimetype": "text/x-python",
      "name": "python",
      "nbconvert_exporter": "python",
      "pygments_lexer": "ipython3",
      "version": "3.7.9"
    },
    "colab": {
      "name": "machine_learning_trading_bot.ipynb",
      "provenance": [],
      "collapsed_sections": []
    }
  },
  "cells": [
    {
      "cell_type": "markdown",
      "metadata": {
        "id": "-gAlpLCsT8Lc"
      },
      "source": [
        "# Machine Learning Trading Bot\n",
        "\n",
        "In this Challenge, you’ll assume the role of a financial advisor at one of the top five financial advisory firms in the world. Your firm constantly competes with the other major firms to manage and automatically trade assets in a highly dynamic environment. In recent years, your firm has heavily profited by using computer algorithms that can buy and sell faster than human traders.\n",
        "\n",
        "The speed of these transactions gave your firm a competitive advantage early on. But, people still need to specifically program these systems, which limits their ability to adapt to new data. You’re thus planning to improve the existing algorithmic trading systems and maintain the firm’s competitive advantage in the market. To do so, you’ll enhance the existing trading signals with machine learning algorithms that can adapt to new data.\n",
        "\n",
        "## Instructions:\n",
        "\n",
        "Use the starter code file to complete the steps that the instructions outline. The steps for this Challenge are divided into the following sections:\n",
        "\n",
        "* Establish a Baseline Performance\n",
        "\n",
        "* Tune the Baseline Trading Algorithm\n",
        "\n",
        "* Evaluate a New Machine Learning Classifier\n",
        "\n",
        "* Create an Evaluation Report\n",
        "\n",
        "#### Establish a Baseline Performance\n",
        "\n",
        "In this section, you’ll run the provided starter code to establish a baseline performance for the trading algorithm. To do so, complete the following steps.\n",
        "\n",
        "Open the Jupyter notebook. Restart the kernel, run the provided cells that correspond with the first three steps, and then proceed to step four. \n",
        "\n",
        "1. Import the OHLCV dataset into a Pandas DataFrame.\n",
        "\n",
        "2. Generate trading signals using short- and long-window SMA values. \n",
        "\n",
        "3. Split the data into training and testing datasets.\n",
        "\n",
        "4. Use the `SVC` classifier model from SKLearn's support vector machine (SVM) learning method to fit the training data and make predictions based on the testing data. Review the predictions.\n",
        "\n",
        "5. Review the classification report associated with the `SVC` model predictions. \n",
        "\n",
        "6. Create a predictions DataFrame that contains columns for “Predicted” values, “Actual Returns”, and “Strategy Returns”.\n",
        "\n",
        "7. Create a cumulative return plot that shows the actual returns vs. the strategy returns. Save a PNG image of this plot. This will serve as a baseline against which to compare the effects of tuning the trading algorithm.\n",
        "\n",
        "8. Write your conclusions about the performance of the baseline trading algorithm in the `README.md` file that’s associated with your GitHub repository. Support your findings by using the PNG image that you saved in the previous step.\n",
        "\n",
        "#### Tune the Baseline Trading Algorithm\n",
        "\n",
        "In this section, you’ll tune, or adjust, the model’s input features to find the parameters that result in the best trading outcomes. (You’ll choose the best by comparing the cumulative products of the strategy returns.) To do so, complete the following steps:\n",
        "\n",
        "1. Tune the training algorithm by adjusting the size of the training dataset. To do so, slice your data into different periods. Rerun the notebook with the updated parameters, and record the results in your `README.md` file. Answer the following question: What impact resulted from increasing or decreasing the training window?\n",
        "\n",
        "> **Hint** To adjust the size of the training dataset, you can use a different `DateOffset` value&mdash;for example, six months. Be aware that changing the size of the training dataset also affects the size of the testing dataset.\n",
        "\n",
        "2. Tune the trading algorithm by adjusting the SMA input features. Adjust one or both of the windows for the algorithm. Rerun the notebook with the updated parameters, and record the results in your `README.md` file. Answer the following question: What impact resulted from increasing or decreasing either or both of the SMA windows?\n",
        "\n",
        "3. Choose the set of parameters that best improved the trading algorithm returns. Save a PNG image of the cumulative product of the actual returns vs. the strategy returns, and document your conclusion in your `README.md` file.\n",
        "\n",
        "#### Evaluate a New Machine Learning Classifier\n",
        "\n",
        "In this section, you’ll use the original parameters that the starter code provided. But, you’ll apply them to the performance of a second machine learning model. To do so, complete the following steps:\n",
        "\n",
        "1. Import a new classifier, such as `AdaBoost`, `DecisionTreeClassifier`, or `LogisticRegression`. (For the full list of classifiers, refer to the [Supervised learning page](https://scikit-learn.org/stable/supervised_learning.html) in the scikit-learn documentation.)\n",
        "\n",
        "2. Using the original training data as the baseline model, fit another model with the new classifier.\n",
        "\n",
        "3. Backtest the new model to evaluate its performance. Save a PNG image of the cumulative product of the actual returns vs. the strategy returns for this updated trading algorithm, and write your conclusions in your `README.md` file. Answer the following questions: Did this new model perform better or worse than the provided baseline model? Did this new model perform better or worse than your tuned trading algorithm?\n",
        "\n",
        "#### Create an Evaluation Report\n",
        "\n",
        "In the previous sections, you updated your `README.md` file with your conclusions. To accomplish this section, you need to add a summary evaluation report at the end of the `README.md` file. For this report, express your final conclusions and analysis. Support your findings by using the PNG images that you created.\n"
      ]
    },
    {
      "cell_type": "code",
      "metadata": {
        "colab": {
          "base_uri": "https://localhost:8080/"
        },
        "id": "ttLNpak6YWIz",
        "outputId": "ddc8dc8e-20d3-4db6-9d6f-e090bd7af077"
      },
      "source": [
        "# Install the required libraries\n",
        "from IPython.display import clear_output\n",
        "try:\n",
        "  !pip install pystan\n",
        "  !pip install fbprophet\n",
        "  !pip install hvplot\n",
        "  !pip install holoviews\n",
        "except:\n",
        "  print(\"Error installing libraries\")\n",
        "finally:\n",
        "  clear_output()\n",
        "  print('Libraries successfully installed')"
      ],
      "execution_count": null,
      "outputs": [
        {
          "output_type": "stream",
          "text": [
            "Libraries successfully installed\n"
          ],
          "name": "stdout"
        }
      ]
    },
    {
      "cell_type": "code",
      "metadata": {
        "colab": {
          "base_uri": "https://localhost:8080/"
        },
        "id": "FOBhHZXzT8Lh",
        "outputId": "c5d69fc0-f1e6-4e84-d041-4d43220a50e6"
      },
      "source": [
        "# Imports\n",
        "import pandas as pd\n",
        "import numpy as np\n",
        "from pathlib import Path\n",
        "import hvplot.pandas\n",
        "!pip install hvplot\n",
        "import matplotlib.pyplot as plt\n",
        "from sklearn.svm import SVC\n",
        "from sklearn.preprocessing import StandardScaler\n",
        "from pandas.tseries.offsets import DateOffset\n",
        "from sklearn.metrics import classification_report\n",
        "\n"
      ],
      "execution_count": null,
      "outputs": [
        {
          "output_type": "stream",
          "text": [
            "Requirement already satisfied: hvplot in /usr/local/lib/python3.7/dist-packages (0.7.2)\n",
            "Requirement already satisfied: pandas in /usr/local/lib/python3.7/dist-packages (from hvplot) (1.1.5)\n",
            "Requirement already satisfied: holoviews>=1.11.0 in /usr/local/lib/python3.7/dist-packages (from hvplot) (1.14.3)\n",
            "Requirement already satisfied: colorcet>=2 in /usr/local/lib/python3.7/dist-packages (from hvplot) (2.0.6)\n",
            "Requirement already satisfied: bokeh>=1.0.0 in /usr/local/lib/python3.7/dist-packages (from hvplot) (2.3.2)\n",
            "Requirement already satisfied: numpy>=1.15 in /usr/local/lib/python3.7/dist-packages (from hvplot) (1.19.5)\n",
            "Requirement already satisfied: pytz>=2017.2 in /usr/local/lib/python3.7/dist-packages (from pandas->hvplot) (2018.9)\n",
            "Requirement already satisfied: python-dateutil>=2.7.3 in /usr/local/lib/python3.7/dist-packages (from pandas->hvplot) (2.8.1)\n",
            "Requirement already satisfied: panel>=0.8.0 in /usr/local/lib/python3.7/dist-packages (from holoviews>=1.11.0->hvplot) (0.11.3)\n",
            "Requirement already satisfied: pyviz-comms>=0.7.4 in /usr/local/lib/python3.7/dist-packages (from holoviews>=1.11.0->hvplot) (2.0.1)\n",
            "Requirement already satisfied: param<2.0,>=1.9.3 in /usr/local/lib/python3.7/dist-packages (from holoviews>=1.11.0->hvplot) (1.10.1)\n",
            "Requirement already satisfied: pyct>=0.4.4 in /usr/local/lib/python3.7/dist-packages (from colorcet>=2->hvplot) (0.4.8)\n",
            "Requirement already satisfied: Jinja2>=2.9 in /usr/local/lib/python3.7/dist-packages (from bokeh>=1.0.0->hvplot) (2.11.3)\n",
            "Requirement already satisfied: pillow>=7.1.0 in /usr/local/lib/python3.7/dist-packages (from bokeh>=1.0.0->hvplot) (7.1.2)\n",
            "Requirement already satisfied: tornado>=5.1 in /usr/local/lib/python3.7/dist-packages (from bokeh>=1.0.0->hvplot) (5.1.1)\n",
            "Requirement already satisfied: PyYAML>=3.10 in /usr/local/lib/python3.7/dist-packages (from bokeh>=1.0.0->hvplot) (3.13)\n",
            "Requirement already satisfied: typing-extensions>=3.7.4 in /usr/local/lib/python3.7/dist-packages (from bokeh>=1.0.0->hvplot) (3.7.4.3)\n",
            "Requirement already satisfied: packaging>=16.8 in /usr/local/lib/python3.7/dist-packages (from bokeh>=1.0.0->hvplot) (20.9)\n",
            "Requirement already satisfied: six>=1.5 in /usr/local/lib/python3.7/dist-packages (from python-dateutil>=2.7.3->pandas->hvplot) (1.15.0)\n",
            "Requirement already satisfied: requests in /usr/local/lib/python3.7/dist-packages (from panel>=0.8.0->holoviews>=1.11.0->hvplot) (2.23.0)\n",
            "Requirement already satisfied: tqdm in /usr/local/lib/python3.7/dist-packages (from panel>=0.8.0->holoviews>=1.11.0->hvplot) (4.41.1)\n",
            "Requirement already satisfied: markdown in /usr/local/lib/python3.7/dist-packages (from panel>=0.8.0->holoviews>=1.11.0->hvplot) (3.3.4)\n",
            "Requirement already satisfied: MarkupSafe>=0.23 in /usr/local/lib/python3.7/dist-packages (from Jinja2>=2.9->bokeh>=1.0.0->hvplot) (2.0.1)\n",
            "Requirement already satisfied: pyparsing>=2.0.2 in /usr/local/lib/python3.7/dist-packages (from packaging>=16.8->bokeh>=1.0.0->hvplot) (2.4.7)\n",
            "Requirement already satisfied: chardet<4,>=3.0.2 in /usr/local/lib/python3.7/dist-packages (from requests->panel>=0.8.0->holoviews>=1.11.0->hvplot) (3.0.4)\n",
            "Requirement already satisfied: idna<3,>=2.5 in /usr/local/lib/python3.7/dist-packages (from requests->panel>=0.8.0->holoviews>=1.11.0->hvplot) (2.10)\n",
            "Requirement already satisfied: certifi>=2017.4.17 in /usr/local/lib/python3.7/dist-packages (from requests->panel>=0.8.0->holoviews>=1.11.0->hvplot) (2020.12.5)\n",
            "Requirement already satisfied: urllib3!=1.25.0,!=1.25.1,<1.26,>=1.21.1 in /usr/local/lib/python3.7/dist-packages (from requests->panel>=0.8.0->holoviews>=1.11.0->hvplot) (1.24.3)\n",
            "Requirement already satisfied: importlib-metadata; python_version < \"3.8\" in /usr/local/lib/python3.7/dist-packages (from markdown->panel>=0.8.0->holoviews>=1.11.0->hvplot) (4.0.1)\n",
            "Requirement already satisfied: zipp>=0.5 in /usr/local/lib/python3.7/dist-packages (from importlib-metadata; python_version < \"3.8\"->markdown->panel>=0.8.0->holoviews>=1.11.0->hvplot) (3.4.1)\n"
          ],
          "name": "stdout"
        }
      ]
    },
    {
      "cell_type": "markdown",
      "metadata": {
        "id": "mtau09NeT8Li"
      },
      "source": [
        "---\n",
        "\n",
        "## Establish a Baseline Performance\n",
        "\n",
        "In this section, you’ll run the provided starter code to establish a baseline performance for the trading algorithm. To do so, complete the following steps.\n",
        "\n",
        "Open the Jupyter notebook. Restart the kernel, run the provided cells that correspond with the first three steps, and then proceed to step four. \n"
      ]
    },
    {
      "cell_type": "markdown",
      "metadata": {
        "id": "bqnVYwVqT8Lk"
      },
      "source": [
        "### Step 1: Import the OHLCV dataset into a Pandas DataFrame."
      ]
    },
    {
      "cell_type": "code",
      "metadata": {
        "colab": {
          "resources": {
            "http://localhost:8080/nbextensions/google.colab/files.js": {
              "data": "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",
              "ok": true,
              "headers": [
                [
                  "content-type",
                  "application/javascript"
                ]
              ],
              "status": 200,
              "status_text": ""
            }
          },
          "base_uri": "https://localhost:8080/",
          "height": 72
        },
        "id": "ZoAx7xlfZTFH",
        "outputId": "6e594071-cbf7-4904-b345-b492580b580e"
      },
      "source": [
        "from google.colab import files\n",
        "uploaded = files.upload()"
      ],
      "execution_count": null,
      "outputs": [
        {
          "output_type": "display_data",
          "data": {
            "text/html": [
              "\n",
              "     <input type=\"file\" id=\"files-2263224f-fa5c-4f2b-8cf3-8ece22775b7b\" name=\"files[]\" multiple disabled\n",
              "        style=\"border:none\" />\n",
              "     <output id=\"result-2263224f-fa5c-4f2b-8cf3-8ece22775b7b\">\n",
              "      Upload widget is only available when the cell has been executed in the\n",
              "      current browser session. Please rerun this cell to enable.\n",
              "      </output>\n",
              "      <script src=\"/nbextensions/google.colab/files.js\"></script> "
            ],
            "text/plain": [
              "<IPython.core.display.HTML object>"
            ]
          },
          "metadata": {
            "tags": []
          }
        },
        {
          "output_type": "stream",
          "text": [
            "Saving emerging_markets_ohlcv.csv to emerging_markets_ohlcv.csv\n"
          ],
          "name": "stdout"
        }
      ]
    },
    {
      "cell_type": "code",
      "metadata": {
        "id": "Bcaf21zXT8Lk",
        "colab": {
          "base_uri": "https://localhost:8080/",
          "height": 235
        },
        "outputId": "e6038c5b-295a-4696-94ff-22a876f0fa8c"
      },
      "source": [
        "# Import the OHLCV dataset into a Pandas Dataframe\n",
        "ohlcv_df = pd.read_csv(\n",
        "    Path(\"emerging_markets_ohlcv.csv\"), \n",
        "    index_col='date', \n",
        "    infer_datetime_format= True, \n",
        "    parse_dates= True\n",
        ")\n",
        "\n",
        "# Review the DataFrame\n",
        "ohlcv_df.head()"
      ],
      "execution_count": null,
      "outputs": [
        {
          "output_type": "execute_result",
          "data": {
            "text/html": [
              "<div>\n",
              "<style scoped>\n",
              "    .dataframe tbody tr th:only-of-type {\n",
              "        vertical-align: middle;\n",
              "    }\n",
              "\n",
              "    .dataframe tbody tr th {\n",
              "        vertical-align: top;\n",
              "    }\n",
              "\n",
              "    .dataframe thead th {\n",
              "        text-align: right;\n",
              "    }\n",
              "</style>\n",
              "<table border=\"1\" class=\"dataframe\">\n",
              "  <thead>\n",
              "    <tr style=\"text-align: right;\">\n",
              "      <th></th>\n",
              "      <th>open</th>\n",
              "      <th>high</th>\n",
              "      <th>low</th>\n",
              "      <th>close</th>\n",
              "      <th>volume</th>\n",
              "    </tr>\n",
              "    <tr>\n",
              "      <th>date</th>\n",
              "      <th></th>\n",
              "      <th></th>\n",
              "      <th></th>\n",
              "      <th></th>\n",
              "      <th></th>\n",
              "    </tr>\n",
              "  </thead>\n",
              "  <tbody>\n",
              "    <tr>\n",
              "      <th>2015-01-21 09:30:00</th>\n",
              "      <td>23.83</td>\n",
              "      <td>23.83</td>\n",
              "      <td>23.83</td>\n",
              "      <td>23.83</td>\n",
              "      <td>100</td>\n",
              "    </tr>\n",
              "    <tr>\n",
              "      <th>2015-01-21 11:00:00</th>\n",
              "      <td>23.98</td>\n",
              "      <td>23.98</td>\n",
              "      <td>23.98</td>\n",
              "      <td>23.98</td>\n",
              "      <td>100</td>\n",
              "    </tr>\n",
              "    <tr>\n",
              "      <th>2015-01-22 15:00:00</th>\n",
              "      <td>24.42</td>\n",
              "      <td>24.42</td>\n",
              "      <td>24.42</td>\n",
              "      <td>24.42</td>\n",
              "      <td>100</td>\n",
              "    </tr>\n",
              "    <tr>\n",
              "      <th>2015-01-22 15:15:00</th>\n",
              "      <td>24.42</td>\n",
              "      <td>24.44</td>\n",
              "      <td>24.42</td>\n",
              "      <td>24.44</td>\n",
              "      <td>200</td>\n",
              "    </tr>\n",
              "    <tr>\n",
              "      <th>2015-01-22 15:30:00</th>\n",
              "      <td>24.46</td>\n",
              "      <td>24.46</td>\n",
              "      <td>24.46</td>\n",
              "      <td>24.46</td>\n",
              "      <td>200</td>\n",
              "    </tr>\n",
              "  </tbody>\n",
              "</table>\n",
              "</div>"
            ],
            "text/plain": [
              "                      open   high    low  close  volume\n",
              "date                                                   \n",
              "2015-01-21 09:30:00  23.83  23.83  23.83  23.83     100\n",
              "2015-01-21 11:00:00  23.98  23.98  23.98  23.98     100\n",
              "2015-01-22 15:00:00  24.42  24.42  24.42  24.42     100\n",
              "2015-01-22 15:15:00  24.42  24.44  24.42  24.44     200\n",
              "2015-01-22 15:30:00  24.46  24.46  24.46  24.46     200"
            ]
          },
          "metadata": {
            "tags": []
          },
          "execution_count": 10
        }
      ]
    },
    {
      "cell_type": "markdown",
      "metadata": {
        "id": "AqW0CIQMYzX-"
      },
      "source": [
        ""
      ]
    },
    {
      "cell_type": "markdown",
      "metadata": {
        "id": "w2R-tOe2Yzar"
      },
      "source": [
        ""
      ]
    },
    {
      "cell_type": "code",
      "metadata": {
        "id": "I3i6_NdST8Ll",
        "colab": {
          "base_uri": "https://localhost:8080/",
          "height": 453
        },
        "outputId": "09844795-682f-4c1f-c826-e4b33596b3a4"
      },
      "source": [
        "# Filter the date index and close columns\n",
        "signals_df = ohlcv_df.loc[:, [\"close\"]]\n",
        "\n",
        "# Use the pct_change function to generate  returns from close prices\n",
        "signals_df[\"Actual Returns\"] = signals_df[\"close\"].pct_change()\n",
        "\n",
        "# Drop all NaN values from the DataFrame\n",
        "signals_df = signals_df.dropna()\n",
        "\n",
        "# Review the DataFrame\n",
        "display(signals_df.head())\n",
        "display(signals_df.tail())"
      ],
      "execution_count": null,
      "outputs": [
        {
          "output_type": "display_data",
          "data": {
            "text/html": [
              "<div>\n",
              "<style scoped>\n",
              "    .dataframe tbody tr th:only-of-type {\n",
              "        vertical-align: middle;\n",
              "    }\n",
              "\n",
              "    .dataframe tbody tr th {\n",
              "        vertical-align: top;\n",
              "    }\n",
              "\n",
              "    .dataframe thead th {\n",
              "        text-align: right;\n",
              "    }\n",
              "</style>\n",
              "<table border=\"1\" class=\"dataframe\">\n",
              "  <thead>\n",
              "    <tr style=\"text-align: right;\">\n",
              "      <th></th>\n",
              "      <th>close</th>\n",
              "      <th>Actual Returns</th>\n",
              "    </tr>\n",
              "    <tr>\n",
              "      <th>date</th>\n",
              "      <th></th>\n",
              "      <th></th>\n",
              "    </tr>\n",
              "  </thead>\n",
              "  <tbody>\n",
              "    <tr>\n",
              "      <th>2015-01-21 11:00:00</th>\n",
              "      <td>23.98</td>\n",
              "      <td>0.006295</td>\n",
              "    </tr>\n",
              "    <tr>\n",
              "      <th>2015-01-22 15:00:00</th>\n",
              "      <td>24.42</td>\n",
              "      <td>0.018349</td>\n",
              "    </tr>\n",
              "    <tr>\n",
              "      <th>2015-01-22 15:15:00</th>\n",
              "      <td>24.44</td>\n",
              "      <td>0.000819</td>\n",
              "    </tr>\n",
              "    <tr>\n",
              "      <th>2015-01-22 15:30:00</th>\n",
              "      <td>24.46</td>\n",
              "      <td>0.000818</td>\n",
              "    </tr>\n",
              "    <tr>\n",
              "      <th>2015-01-26 12:30:00</th>\n",
              "      <td>24.33</td>\n",
              "      <td>-0.005315</td>\n",
              "    </tr>\n",
              "  </tbody>\n",
              "</table>\n",
              "</div>"
            ],
            "text/plain": [
              "                     close  Actual Returns\n",
              "date                                      \n",
              "2015-01-21 11:00:00  23.98        0.006295\n",
              "2015-01-22 15:00:00  24.42        0.018349\n",
              "2015-01-22 15:15:00  24.44        0.000819\n",
              "2015-01-22 15:30:00  24.46        0.000818\n",
              "2015-01-26 12:30:00  24.33       -0.005315"
            ]
          },
          "metadata": {
            "tags": []
          }
        },
        {
          "output_type": "display_data",
          "data": {
            "text/html": [
              "<div>\n",
              "<style scoped>\n",
              "    .dataframe tbody tr th:only-of-type {\n",
              "        vertical-align: middle;\n",
              "    }\n",
              "\n",
              "    .dataframe tbody tr th {\n",
              "        vertical-align: top;\n",
              "    }\n",
              "\n",
              "    .dataframe thead th {\n",
              "        text-align: right;\n",
              "    }\n",
              "</style>\n",
              "<table border=\"1\" class=\"dataframe\">\n",
              "  <thead>\n",
              "    <tr style=\"text-align: right;\">\n",
              "      <th></th>\n",
              "      <th>close</th>\n",
              "      <th>Actual Returns</th>\n",
              "    </tr>\n",
              "    <tr>\n",
              "      <th>date</th>\n",
              "      <th></th>\n",
              "      <th></th>\n",
              "    </tr>\n",
              "  </thead>\n",
              "  <tbody>\n",
              "    <tr>\n",
              "      <th>2021-01-22 09:30:00</th>\n",
              "      <td>33.27</td>\n",
              "      <td>-0.006866</td>\n",
              "    </tr>\n",
              "    <tr>\n",
              "      <th>2021-01-22 11:30:00</th>\n",
              "      <td>33.35</td>\n",
              "      <td>0.002405</td>\n",
              "    </tr>\n",
              "    <tr>\n",
              "      <th>2021-01-22 13:45:00</th>\n",
              "      <td>33.42</td>\n",
              "      <td>0.002099</td>\n",
              "    </tr>\n",
              "    <tr>\n",
              "      <th>2021-01-22 14:30:00</th>\n",
              "      <td>33.47</td>\n",
              "      <td>0.001496</td>\n",
              "    </tr>\n",
              "    <tr>\n",
              "      <th>2021-01-22 15:45:00</th>\n",
              "      <td>33.44</td>\n",
              "      <td>-0.000896</td>\n",
              "    </tr>\n",
              "  </tbody>\n",
              "</table>\n",
              "</div>"
            ],
            "text/plain": [
              "                     close  Actual Returns\n",
              "date                                      \n",
              "2021-01-22 09:30:00  33.27       -0.006866\n",
              "2021-01-22 11:30:00  33.35        0.002405\n",
              "2021-01-22 13:45:00  33.42        0.002099\n",
              "2021-01-22 14:30:00  33.47        0.001496\n",
              "2021-01-22 15:45:00  33.44       -0.000896"
            ]
          },
          "metadata": {
            "tags": []
          }
        }
      ]
    },
    {
      "cell_type": "markdown",
      "metadata": {
        "id": "HTbSCD_RT8Ll"
      },
      "source": [
        "## Step 2: Generate trading signals using short- and long-window SMA values. "
      ]
    },
    {
      "cell_type": "code",
      "metadata": {
        "colab": {
          "base_uri": "https://localhost:8080/",
          "height": 453
        },
        "id": "MHMFLAIsT8Lm",
        "outputId": "a31dec47-d7ae-4930-c94b-bd50e1a37974"
      },
      "source": [
        "# Set the short window and long window\n",
        "short_window = 4\n",
        "long_window = 100\n",
        "\n",
        "# Generate the fast and slow simple moving averages (4 and 100 days, respectively)\n",
        "signals_df['SMA_Fast'] = signals_df['close'].rolling(window=short_window).mean()\n",
        "signals_df['SMA_Slow'] = signals_df['close'].rolling(window=long_window).mean()\n",
        "\n",
        "signals_df = signals_df.dropna()\n",
        "\n",
        "# Review the DataFrame\n",
        "display(signals_df.head())\n",
        "display(signals_df.tail())"
      ],
      "execution_count": null,
      "outputs": [
        {
          "output_type": "display_data",
          "data": {
            "text/html": [
              "<div>\n",
              "<style scoped>\n",
              "    .dataframe tbody tr th:only-of-type {\n",
              "        vertical-align: middle;\n",
              "    }\n",
              "\n",
              "    .dataframe tbody tr th {\n",
              "        vertical-align: top;\n",
              "    }\n",
              "\n",
              "    .dataframe thead th {\n",
              "        text-align: right;\n",
              "    }\n",
              "</style>\n",
              "<table border=\"1\" class=\"dataframe\">\n",
              "  <thead>\n",
              "    <tr style=\"text-align: right;\">\n",
              "      <th></th>\n",
              "      <th>close</th>\n",
              "      <th>Actual Returns</th>\n",
              "      <th>SMA_Fast</th>\n",
              "      <th>SMA_Slow</th>\n",
              "    </tr>\n",
              "    <tr>\n",
              "      <th>date</th>\n",
              "      <th></th>\n",
              "      <th></th>\n",
              "      <th></th>\n",
              "      <th></th>\n",
              "    </tr>\n",
              "  </thead>\n",
              "  <tbody>\n",
              "    <tr>\n",
              "      <th>2015-04-02 14:45:00</th>\n",
              "      <td>24.92</td>\n",
              "      <td>0.000000</td>\n",
              "      <td>24.9175</td>\n",
              "      <td>24.3214</td>\n",
              "    </tr>\n",
              "    <tr>\n",
              "      <th>2015-04-02 15:00:00</th>\n",
              "      <td>24.92</td>\n",
              "      <td>0.000000</td>\n",
              "      <td>24.9200</td>\n",
              "      <td>24.3308</td>\n",
              "    </tr>\n",
              "    <tr>\n",
              "      <th>2015-04-02 15:15:00</th>\n",
              "      <td>24.94</td>\n",
              "      <td>0.000803</td>\n",
              "      <td>24.9250</td>\n",
              "      <td>24.3360</td>\n",
              "    </tr>\n",
              "    <tr>\n",
              "      <th>2015-04-02 15:30:00</th>\n",
              "      <td>24.95</td>\n",
              "      <td>0.000401</td>\n",
              "      <td>24.9325</td>\n",
              "      <td>24.3411</td>\n",
              "    </tr>\n",
              "    <tr>\n",
              "      <th>2015-04-02 15:45:00</th>\n",
              "      <td>24.98</td>\n",
              "      <td>0.001202</td>\n",
              "      <td>24.9475</td>\n",
              "      <td>24.3463</td>\n",
              "    </tr>\n",
              "  </tbody>\n",
              "</table>\n",
              "</div>"
            ],
            "text/plain": [
              "                     close  Actual Returns  SMA_Fast  SMA_Slow\n",
              "date                                                          \n",
              "2015-04-02 14:45:00  24.92        0.000000   24.9175   24.3214\n",
              "2015-04-02 15:00:00  24.92        0.000000   24.9200   24.3308\n",
              "2015-04-02 15:15:00  24.94        0.000803   24.9250   24.3360\n",
              "2015-04-02 15:30:00  24.95        0.000401   24.9325   24.3411\n",
              "2015-04-02 15:45:00  24.98        0.001202   24.9475   24.3463"
            ]
          },
          "metadata": {
            "tags": []
          }
        },
        {
          "output_type": "display_data",
          "data": {
            "text/html": [
              "<div>\n",
              "<style scoped>\n",
              "    .dataframe tbody tr th:only-of-type {\n",
              "        vertical-align: middle;\n",
              "    }\n",
              "\n",
              "    .dataframe tbody tr th {\n",
              "        vertical-align: top;\n",
              "    }\n",
              "\n",
              "    .dataframe thead th {\n",
              "        text-align: right;\n",
              "    }\n",
              "</style>\n",
              "<table border=\"1\" class=\"dataframe\">\n",
              "  <thead>\n",
              "    <tr style=\"text-align: right;\">\n",
              "      <th></th>\n",
              "      <th>close</th>\n",
              "      <th>Actual Returns</th>\n",
              "      <th>SMA_Fast</th>\n",
              "      <th>SMA_Slow</th>\n",
              "    </tr>\n",
              "    <tr>\n",
              "      <th>date</th>\n",
              "      <th></th>\n",
              "      <th></th>\n",
              "      <th></th>\n",
              "      <th></th>\n",
              "    </tr>\n",
              "  </thead>\n",
              "  <tbody>\n",
              "    <tr>\n",
              "      <th>2021-01-22 09:30:00</th>\n",
              "      <td>33.27</td>\n",
              "      <td>-0.006866</td>\n",
              "      <td>33.2025</td>\n",
              "      <td>30.40215</td>\n",
              "    </tr>\n",
              "    <tr>\n",
              "      <th>2021-01-22 11:30:00</th>\n",
              "      <td>33.35</td>\n",
              "      <td>0.002405</td>\n",
              "      <td>33.2725</td>\n",
              "      <td>30.44445</td>\n",
              "    </tr>\n",
              "    <tr>\n",
              "      <th>2021-01-22 13:45:00</th>\n",
              "      <td>33.42</td>\n",
              "      <td>0.002099</td>\n",
              "      <td>33.3850</td>\n",
              "      <td>30.48745</td>\n",
              "    </tr>\n",
              "    <tr>\n",
              "      <th>2021-01-22 14:30:00</th>\n",
              "      <td>33.47</td>\n",
              "      <td>0.001496</td>\n",
              "      <td>33.3775</td>\n",
              "      <td>30.53085</td>\n",
              "    </tr>\n",
              "    <tr>\n",
              "      <th>2021-01-22 15:45:00</th>\n",
              "      <td>33.44</td>\n",
              "      <td>-0.000896</td>\n",
              "      <td>33.4200</td>\n",
              "      <td>30.57495</td>\n",
              "    </tr>\n",
              "  </tbody>\n",
              "</table>\n",
              "</div>"
            ],
            "text/plain": [
              "                     close  Actual Returns  SMA_Fast  SMA_Slow\n",
              "date                                                          \n",
              "2021-01-22 09:30:00  33.27       -0.006866   33.2025  30.40215\n",
              "2021-01-22 11:30:00  33.35        0.002405   33.2725  30.44445\n",
              "2021-01-22 13:45:00  33.42        0.002099   33.3850  30.48745\n",
              "2021-01-22 14:30:00  33.47        0.001496   33.3775  30.53085\n",
              "2021-01-22 15:45:00  33.44       -0.000896   33.4200  30.57495"
            ]
          },
          "metadata": {
            "tags": []
          }
        }
      ]
    },
    {
      "cell_type": "code",
      "metadata": {
        "colab": {
          "base_uri": "https://localhost:8080/",
          "height": 453
        },
        "id": "5wD5v68FT8Lm",
        "outputId": "9c6e3caa-7dad-4830-d3b6-1614c157159b"
      },
      "source": [
        "# Initialize the new Signal column\n",
        "signals_df['Signal'] = 0.0\n",
        "\n",
        "# When Actual Returns are greater than or equal to 0, generate signal to buy stock long\n",
        "signals_df.loc[(signals_df['Actual Returns'] >= 0), 'Signal'] = 1\n",
        "\n",
        "# When Actual Returns are less than 0, generate signal to sell stock short\n",
        "signals_df.loc[(signals_df['Actual Returns'] < 0), 'Signal'] = -1\n",
        "\n",
        "# Review the DataFrame\n",
        "display(signals_df.head())\n",
        "display(signals_df.tail())"
      ],
      "execution_count": null,
      "outputs": [
        {
          "output_type": "display_data",
          "data": {
            "text/html": [
              "<div>\n",
              "<style scoped>\n",
              "    .dataframe tbody tr th:only-of-type {\n",
              "        vertical-align: middle;\n",
              "    }\n",
              "\n",
              "    .dataframe tbody tr th {\n",
              "        vertical-align: top;\n",
              "    }\n",
              "\n",
              "    .dataframe thead th {\n",
              "        text-align: right;\n",
              "    }\n",
              "</style>\n",
              "<table border=\"1\" class=\"dataframe\">\n",
              "  <thead>\n",
              "    <tr style=\"text-align: right;\">\n",
              "      <th></th>\n",
              "      <th>close</th>\n",
              "      <th>Actual Returns</th>\n",
              "      <th>SMA_Fast</th>\n",
              "      <th>SMA_Slow</th>\n",
              "      <th>Signal</th>\n",
              "    </tr>\n",
              "    <tr>\n",
              "      <th>date</th>\n",
              "      <th></th>\n",
              "      <th></th>\n",
              "      <th></th>\n",
              "      <th></th>\n",
              "      <th></th>\n",
              "    </tr>\n",
              "  </thead>\n",
              "  <tbody>\n",
              "    <tr>\n",
              "      <th>2015-04-02 14:45:00</th>\n",
              "      <td>24.92</td>\n",
              "      <td>0.000000</td>\n",
              "      <td>24.9175</td>\n",
              "      <td>24.3214</td>\n",
              "      <td>1.0</td>\n",
              "    </tr>\n",
              "    <tr>\n",
              "      <th>2015-04-02 15:00:00</th>\n",
              "      <td>24.92</td>\n",
              "      <td>0.000000</td>\n",
              "      <td>24.9200</td>\n",
              "      <td>24.3308</td>\n",
              "      <td>1.0</td>\n",
              "    </tr>\n",
              "    <tr>\n",
              "      <th>2015-04-02 15:15:00</th>\n",
              "      <td>24.94</td>\n",
              "      <td>0.000803</td>\n",
              "      <td>24.9250</td>\n",
              "      <td>24.3360</td>\n",
              "      <td>1.0</td>\n",
              "    </tr>\n",
              "    <tr>\n",
              "      <th>2015-04-02 15:30:00</th>\n",
              "      <td>24.95</td>\n",
              "      <td>0.000401</td>\n",
              "      <td>24.9325</td>\n",
              "      <td>24.3411</td>\n",
              "      <td>1.0</td>\n",
              "    </tr>\n",
              "    <tr>\n",
              "      <th>2015-04-02 15:45:00</th>\n",
              "      <td>24.98</td>\n",
              "      <td>0.001202</td>\n",
              "      <td>24.9475</td>\n",
              "      <td>24.3463</td>\n",
              "      <td>1.0</td>\n",
              "    </tr>\n",
              "  </tbody>\n",
              "</table>\n",
              "</div>"
            ],
            "text/plain": [
              "                     close  Actual Returns  SMA_Fast  SMA_Slow  Signal\n",
              "date                                                                  \n",
              "2015-04-02 14:45:00  24.92        0.000000   24.9175   24.3214     1.0\n",
              "2015-04-02 15:00:00  24.92        0.000000   24.9200   24.3308     1.0\n",
              "2015-04-02 15:15:00  24.94        0.000803   24.9250   24.3360     1.0\n",
              "2015-04-02 15:30:00  24.95        0.000401   24.9325   24.3411     1.0\n",
              "2015-04-02 15:45:00  24.98        0.001202   24.9475   24.3463     1.0"
            ]
          },
          "metadata": {
            "tags": []
          }
        },
        {
          "output_type": "display_data",
          "data": {
            "text/html": [
              "<div>\n",
              "<style scoped>\n",
              "    .dataframe tbody tr th:only-of-type {\n",
              "        vertical-align: middle;\n",
              "    }\n",
              "\n",
              "    .dataframe tbody tr th {\n",
              "        vertical-align: top;\n",
              "    }\n",
              "\n",
              "    .dataframe thead th {\n",
              "        text-align: right;\n",
              "    }\n",
              "</style>\n",
              "<table border=\"1\" class=\"dataframe\">\n",
              "  <thead>\n",
              "    <tr style=\"text-align: right;\">\n",
              "      <th></th>\n",
              "      <th>close</th>\n",
              "      <th>Actual Returns</th>\n",
              "      <th>SMA_Fast</th>\n",
              "      <th>SMA_Slow</th>\n",
              "      <th>Signal</th>\n",
              "    </tr>\n",
              "    <tr>\n",
              "      <th>date</th>\n",
              "      <th></th>\n",
              "      <th></th>\n",
              "      <th></th>\n",
              "      <th></th>\n",
              "      <th></th>\n",
              "    </tr>\n",
              "  </thead>\n",
              "  <tbody>\n",
              "    <tr>\n",
              "      <th>2021-01-22 09:30:00</th>\n",
              "      <td>33.27</td>\n",
              "      <td>-0.006866</td>\n",
              "      <td>33.2025</td>\n",
              "      <td>30.40215</td>\n",
              "      <td>-1.0</td>\n",
              "    </tr>\n",
              "    <tr>\n",
              "      <th>2021-01-22 11:30:00</th>\n",
              "      <td>33.35</td>\n",
              "      <td>0.002405</td>\n",
              "      <td>33.2725</td>\n",
              "      <td>30.44445</td>\n",
              "      <td>1.0</td>\n",
              "    </tr>\n",
              "    <tr>\n",
              "      <th>2021-01-22 13:45:00</th>\n",
              "      <td>33.42</td>\n",
              "      <td>0.002099</td>\n",
              "      <td>33.3850</td>\n",
              "      <td>30.48745</td>\n",
              "      <td>1.0</td>\n",
              "    </tr>\n",
              "    <tr>\n",
              "      <th>2021-01-22 14:30:00</th>\n",
              "      <td>33.47</td>\n",
              "      <td>0.001496</td>\n",
              "      <td>33.3775</td>\n",
              "      <td>30.53085</td>\n",
              "      <td>1.0</td>\n",
              "    </tr>\n",
              "    <tr>\n",
              "      <th>2021-01-22 15:45:00</th>\n",
              "      <td>33.44</td>\n",
              "      <td>-0.000896</td>\n",
              "      <td>33.4200</td>\n",
              "      <td>30.57495</td>\n",
              "      <td>-1.0</td>\n",
              "    </tr>\n",
              "  </tbody>\n",
              "</table>\n",
              "</div>"
            ],
            "text/plain": [
              "                     close  Actual Returns  SMA_Fast  SMA_Slow  Signal\n",
              "date                                                                  \n",
              "2021-01-22 09:30:00  33.27       -0.006866   33.2025  30.40215    -1.0\n",
              "2021-01-22 11:30:00  33.35        0.002405   33.2725  30.44445     1.0\n",
              "2021-01-22 13:45:00  33.42        0.002099   33.3850  30.48745     1.0\n",
              "2021-01-22 14:30:00  33.47        0.001496   33.3775  30.53085     1.0\n",
              "2021-01-22 15:45:00  33.44       -0.000896   33.4200  30.57495    -1.0"
            ]
          },
          "metadata": {
            "tags": []
          }
        }
      ]
    },
    {
      "cell_type": "code",
      "metadata": {
        "colab": {
          "base_uri": "https://localhost:8080/"
        },
        "id": "kP6OVQcnT8Lm",
        "outputId": "3f0a2a2c-3f3a-48c3-8eff-a050aff2c462"
      },
      "source": [
        "signals_df['Signal'].value_counts()"
      ],
      "execution_count": null,
      "outputs": [
        {
          "output_type": "execute_result",
          "data": {
            "text/plain": [
              " 1.0    2368\n",
              "-1.0    1855\n",
              "Name: Signal, dtype: int64"
            ]
          },
          "metadata": {
            "tags": []
          },
          "execution_count": 14
        }
      ]
    },
    {
      "cell_type": "code",
      "metadata": {
        "colab": {
          "base_uri": "https://localhost:8080/",
          "height": 453
        },
        "id": "kh4lvyvUT8Ln",
        "outputId": "74f6c41e-0c6f-495e-cd4a-1c011f071ecd"
      },
      "source": [
        "# Calculate the strategy returns and add them to the signals_df DataFrame\n",
        "signals_df['Strategy Returns'] = signals_df['Actual Returns'] * signals_df['Signal'].shift()\n",
        "\n",
        "# Review the DataFrame\n",
        "display(signals_df.head())\n",
        "display(signals_df.tail())"
      ],
      "execution_count": null,
      "outputs": [
        {
          "output_type": "display_data",
          "data": {
            "text/html": [
              "<div>\n",
              "<style scoped>\n",
              "    .dataframe tbody tr th:only-of-type {\n",
              "        vertical-align: middle;\n",
              "    }\n",
              "\n",
              "    .dataframe tbody tr th {\n",
              "        vertical-align: top;\n",
              "    }\n",
              "\n",
              "    .dataframe thead th {\n",
              "        text-align: right;\n",
              "    }\n",
              "</style>\n",
              "<table border=\"1\" class=\"dataframe\">\n",
              "  <thead>\n",
              "    <tr style=\"text-align: right;\">\n",
              "      <th></th>\n",
              "      <th>close</th>\n",
              "      <th>Actual Returns</th>\n",
              "      <th>SMA_Fast</th>\n",
              "      <th>SMA_Slow</th>\n",
              "      <th>Signal</th>\n",
              "      <th>Strategy Returns</th>\n",
              "    </tr>\n",
              "    <tr>\n",
              "      <th>date</th>\n",
              "      <th></th>\n",
              "      <th></th>\n",
              "      <th></th>\n",
              "      <th></th>\n",
              "      <th></th>\n",
              "      <th></th>\n",
              "    </tr>\n",
              "  </thead>\n",
              "  <tbody>\n",
              "    <tr>\n",
              "      <th>2015-04-02 14:45:00</th>\n",
              "      <td>24.92</td>\n",
              "      <td>0.000000</td>\n",
              "      <td>24.9175</td>\n",
              "      <td>24.3214</td>\n",
              "      <td>1.0</td>\n",
              "      <td>NaN</td>\n",
              "    </tr>\n",
              "    <tr>\n",
              "      <th>2015-04-02 15:00:00</th>\n",
              "      <td>24.92</td>\n",
              "      <td>0.000000</td>\n",
              "      <td>24.9200</td>\n",
              "      <td>24.3308</td>\n",
              "      <td>1.0</td>\n",
              "      <td>0.000000</td>\n",
              "    </tr>\n",
              "    <tr>\n",
              "      <th>2015-04-02 15:15:00</th>\n",
              "      <td>24.94</td>\n",
              "      <td>0.000803</td>\n",
              "      <td>24.9250</td>\n",
              "      <td>24.3360</td>\n",
              "      <td>1.0</td>\n",
              "      <td>0.000803</td>\n",
              "    </tr>\n",
              "    <tr>\n",
              "      <th>2015-04-02 15:30:00</th>\n",
              "      <td>24.95</td>\n",
              "      <td>0.000401</td>\n",
              "      <td>24.9325</td>\n",
              "      <td>24.3411</td>\n",
              "      <td>1.0</td>\n",
              "      <td>0.000401</td>\n",
              "    </tr>\n",
              "    <tr>\n",
              "      <th>2015-04-02 15:45:00</th>\n",
              "      <td>24.98</td>\n",
              "      <td>0.001202</td>\n",
              "      <td>24.9475</td>\n",
              "      <td>24.3463</td>\n",
              "      <td>1.0</td>\n",
              "      <td>0.001202</td>\n",
              "    </tr>\n",
              "  </tbody>\n",
              "</table>\n",
              "</div>"
            ],
            "text/plain": [
              "                     close  Actual Returns  ...  Signal  Strategy Returns\n",
              "date                                        ...                          \n",
              "2015-04-02 14:45:00  24.92        0.000000  ...     1.0               NaN\n",
              "2015-04-02 15:00:00  24.92        0.000000  ...     1.0          0.000000\n",
              "2015-04-02 15:15:00  24.94        0.000803  ...     1.0          0.000803\n",
              "2015-04-02 15:30:00  24.95        0.000401  ...     1.0          0.000401\n",
              "2015-04-02 15:45:00  24.98        0.001202  ...     1.0          0.001202\n",
              "\n",
              "[5 rows x 6 columns]"
            ]
          },
          "metadata": {
            "tags": []
          }
        },
        {
          "output_type": "display_data",
          "data": {
            "text/html": [
              "<div>\n",
              "<style scoped>\n",
              "    .dataframe tbody tr th:only-of-type {\n",
              "        vertical-align: middle;\n",
              "    }\n",
              "\n",
              "    .dataframe tbody tr th {\n",
              "        vertical-align: top;\n",
              "    }\n",
              "\n",
              "    .dataframe thead th {\n",
              "        text-align: right;\n",
              "    }\n",
              "</style>\n",
              "<table border=\"1\" class=\"dataframe\">\n",
              "  <thead>\n",
              "    <tr style=\"text-align: right;\">\n",
              "      <th></th>\n",
              "      <th>close</th>\n",
              "      <th>Actual Returns</th>\n",
              "      <th>SMA_Fast</th>\n",
              "      <th>SMA_Slow</th>\n",
              "      <th>Signal</th>\n",
              "      <th>Strategy Returns</th>\n",
              "    </tr>\n",
              "    <tr>\n",
              "      <th>date</th>\n",
              "      <th></th>\n",
              "      <th></th>\n",
              "      <th></th>\n",
              "      <th></th>\n",
              "      <th></th>\n",
              "      <th></th>\n",
              "    </tr>\n",
              "  </thead>\n",
              "  <tbody>\n",
              "    <tr>\n",
              "      <th>2021-01-22 09:30:00</th>\n",
              "      <td>33.27</td>\n",
              "      <td>-0.006866</td>\n",
              "      <td>33.2025</td>\n",
              "      <td>30.40215</td>\n",
              "      <td>-1.0</td>\n",
              "      <td>-0.006866</td>\n",
              "    </tr>\n",
              "    <tr>\n",
              "      <th>2021-01-22 11:30:00</th>\n",
              "      <td>33.35</td>\n",
              "      <td>0.002405</td>\n",
              "      <td>33.2725</td>\n",
              "      <td>30.44445</td>\n",
              "      <td>1.0</td>\n",
              "      <td>-0.002405</td>\n",
              "    </tr>\n",
              "    <tr>\n",
              "      <th>2021-01-22 13:45:00</th>\n",
              "      <td>33.42</td>\n",
              "      <td>0.002099</td>\n",
              "      <td>33.3850</td>\n",
              "      <td>30.48745</td>\n",
              "      <td>1.0</td>\n",
              "      <td>0.002099</td>\n",
              "    </tr>\n",
              "    <tr>\n",
              "      <th>2021-01-22 14:30:00</th>\n",
              "      <td>33.47</td>\n",
              "      <td>0.001496</td>\n",
              "      <td>33.3775</td>\n",
              "      <td>30.53085</td>\n",
              "      <td>1.0</td>\n",
              "      <td>0.001496</td>\n",
              "    </tr>\n",
              "    <tr>\n",
              "      <th>2021-01-22 15:45:00</th>\n",
              "      <td>33.44</td>\n",
              "      <td>-0.000896</td>\n",
              "      <td>33.4200</td>\n",
              "      <td>30.57495</td>\n",
              "      <td>-1.0</td>\n",
              "      <td>-0.000896</td>\n",
              "    </tr>\n",
              "  </tbody>\n",
              "</table>\n",
              "</div>"
            ],
            "text/plain": [
              "                     close  Actual Returns  ...  Signal  Strategy Returns\n",
              "date                                        ...                          \n",
              "2021-01-22 09:30:00  33.27       -0.006866  ...    -1.0         -0.006866\n",
              "2021-01-22 11:30:00  33.35        0.002405  ...     1.0         -0.002405\n",
              "2021-01-22 13:45:00  33.42        0.002099  ...     1.0          0.002099\n",
              "2021-01-22 14:30:00  33.47        0.001496  ...     1.0          0.001496\n",
              "2021-01-22 15:45:00  33.44       -0.000896  ...    -1.0         -0.000896\n",
              "\n",
              "[5 rows x 6 columns]"
            ]
          },
          "metadata": {
            "tags": []
          }
        }
      ]
    },
    {
      "cell_type": "code",
      "metadata": {
        "colab": {
          "base_uri": "https://localhost:8080/",
          "height": 286
        },
        "id": "ZwFhTeplT8Ln",
        "outputId": "9b850784-1718-416f-99b3-33708c5aaa11"
      },
      "source": [
        "# Plot Strategy Returns to examine performance\n",
        "(1 + signals_df['Strategy Returns']).cumprod().plot()"
      ],
      "execution_count": null,
      "outputs": [
        {
          "output_type": "execute_result",
          "data": {
            "text/plain": [
              "<matplotlib.axes._subplots.AxesSubplot at 0x7f23cae183d0>"
            ]
          },
          "metadata": {
            "tags": []
          },
          "execution_count": 16
        },
        {
          "output_type": "display_data",
          "data": {
            "image/png": "[encoded data removed]",
            "text/plain": [
              "<Figure size 432x288 with 1 Axes>"
            ]
          },
          "metadata": {
            "tags": [],
            "needs_background": "light"
          }
        }
      ]
    },
    {
      "cell_type": "markdown",
      "metadata": {
        "id": "rVrLb_d-T8Ln"
      },
      "source": [
        "### Step 3: Split the data into training and testing datasets."
      ]
    },
    {
      "cell_type": "code",
      "metadata": {
        "colab": {
          "base_uri": "https://localhost:8080/",
          "height": 235
        },
        "id": "GAuyHcIHT8Lo",
        "outputId": "acca7782-93fb-4ea5-fe7d-7cfd922eb16e"
      },
      "source": [
        "# Assign a copy of the sma_fast and sma_slow columns to a features DataFrame called X\n",
        "X = signals_df[['SMA_Fast', 'SMA_Slow']].shift().dropna()\n",
        "\n",
        "# Review the DataFrame\n",
        "X.head()"
      ],
      "execution_count": null,
      "outputs": [
        {
          "output_type": "execute_result",
          "data": {
            "text/html": [
              "<div>\n",
              "<style scoped>\n",
              "    .dataframe tbody tr th:only-of-type {\n",
              "        vertical-align: middle;\n",
              "    }\n",
              "\n",
              "    .dataframe tbody tr th {\n",
              "        vertical-align: top;\n",
              "    }\n",
              "\n",
              "    .dataframe thead th {\n",
              "        text-align: right;\n",
              "    }\n",
              "</style>\n",
              "<table border=\"1\" class=\"dataframe\">\n",
              "  <thead>\n",
              "    <tr style=\"text-align: right;\">\n",
              "      <th></th>\n",
              "      <th>SMA_Fast</th>\n",
              "      <th>SMA_Slow</th>\n",
              "    </tr>\n",
              "    <tr>\n",
              "      <th>date</th>\n",
              "      <th></th>\n",
              "      <th></th>\n",
              "    </tr>\n",
              "  </thead>\n",
              "  <tbody>\n",
              "    <tr>\n",
              "      <th>2015-04-02 15:00:00</th>\n",
              "      <td>24.9175</td>\n",
              "      <td>24.3214</td>\n",
              "    </tr>\n",
              "    <tr>\n",
              "      <th>2015-04-02 15:15:00</th>\n",
              "      <td>24.9200</td>\n",
              "      <td>24.3308</td>\n",
              "    </tr>\n",
              "    <tr>\n",
              "      <th>2015-04-02 15:30:00</th>\n",
              "      <td>24.9250</td>\n",
              "      <td>24.3360</td>\n",
              "    </tr>\n",
              "    <tr>\n",
              "      <th>2015-04-02 15:45:00</th>\n",
              "      <td>24.9325</td>\n",
              "      <td>24.3411</td>\n",
              "    </tr>\n",
              "    <tr>\n",
              "      <th>2015-04-06 09:30:00</th>\n",
              "      <td>24.9475</td>\n",
              "      <td>24.3463</td>\n",
              "    </tr>\n",
              "  </tbody>\n",
              "</table>\n",
              "</div>"
            ],
            "text/plain": [
              "                     SMA_Fast  SMA_Slow\n",
              "date                                   \n",
              "2015-04-02 15:00:00   24.9175   24.3214\n",
              "2015-04-02 15:15:00   24.9200   24.3308\n",
              "2015-04-02 15:30:00   24.9250   24.3360\n",
              "2015-04-02 15:45:00   24.9325   24.3411\n",
              "2015-04-06 09:30:00   24.9475   24.3463"
            ]
          },
          "metadata": {
            "tags": []
          },
          "execution_count": 17
        }
      ]
    },
    {
      "cell_type": "code",
      "metadata": {
        "colab": {
          "base_uri": "https://localhost:8080/"
        },
        "id": "7cJfikRYT8Lo",
        "outputId": "11d31e3f-fed7-42d3-db7d-8217f35cfea3"
      },
      "source": [
        "# Create the target set selecting the Signal column and assiging it to y\n",
        "y = signals_df['Signal']\n",
        "\n",
        "# Review the value counts\n",
        "y.value_counts()"
      ],
      "execution_count": null,
      "outputs": [
        {
          "output_type": "execute_result",
          "data": {
            "text/plain": [
              " 1.0    2368\n",
              "-1.0    1855\n",
              "Name: Signal, dtype: int64"
            ]
          },
          "metadata": {
            "tags": []
          },
          "execution_count": 18
        }
      ]
    },
    {
      "cell_type": "code",
      "metadata": {
        "colab": {
          "base_uri": "https://localhost:8080/"
        },
        "id": "DLulhLUgT8Lo",
        "outputId": "20db2d58-408c-4a35-b7af-63b8b098aaee"
      },
      "source": [
        "# Select the start of the training period\n",
        "training_begin = X.index.min()\n",
        "\n",
        "# Display the training begin date\n",
        "print(training_begin)"
      ],
      "execution_count": null,
      "outputs": [
        {
          "output_type": "stream",
          "text": [
            "2015-04-02 15:00:00\n"
          ],
          "name": "stdout"
        }
      ]
    },
    {
      "cell_type": "code",
      "metadata": {
        "id": "-BK26nyyT8Lo",
        "colab": {
          "base_uri": "https://localhost:8080/"
        },
        "outputId": "ffe044fd-c2d8-4e3e-de1f-1825e7aeead4"
      },
      "source": [
        "training_end = X.index.min() + DateOffset(months=3)\n",
        "\n",
        "# Display the training end date\n",
        "print(training_end)"
      ],
      "execution_count": null,
      "outputs": [
        {
          "output_type": "stream",
          "text": [
            "2015-07-02 15:00:00\n"
          ],
          "name": "stdout"
        }
      ]
    },
    {
      "cell_type": "code",
      "metadata": {
        "id": "NplGzjhWT8Lp",
        "colab": {
          "base_uri": "https://localhost:8080/",
          "height": 235
        },
        "outputId": "03a6101c-d36c-4758-a96b-4e7f6f3b4153"
      },
      "source": [
        "# Generate the X_train and y_train DataFrames\n",
        "X_train = X.loc[training_begin:training_end]\n",
        "y_train = y.loc[training_begin:training_end]\n",
        "\n",
        "# Review the X_train DataFrame\n",
        "X_train.head()"
      ],
      "execution_count": null,
      "outputs": [
        {
          "output_type": "execute_result",
          "data": {
            "text/html": [
              "<div>\n",
              "<style scoped>\n",
              "    .dataframe tbody tr th:only-of-type {\n",
              "        vertical-align: middle;\n",
              "    }\n",
              "\n",
              "    .dataframe tbody tr th {\n",
              "        vertical-align: top;\n",
              "    }\n",
              "\n",
              "    .dataframe thead th {\n",
              "        text-align: right;\n",
              "    }\n",
              "</style>\n",
              "<table border=\"1\" class=\"dataframe\">\n",
              "  <thead>\n",
              "    <tr style=\"text-align: right;\">\n",
              "      <th></th>\n",
              "      <th>SMA_Fast</th>\n",
              "      <th>SMA_Slow</th>\n",
              "    </tr>\n",
              "    <tr>\n",
              "      <th>date</th>\n",
              "      <th></th>\n",
              "      <th></th>\n",
              "    </tr>\n",
              "  </thead>\n",
              "  <tbody>\n",
              "    <tr>\n",
              "      <th>2015-04-02 15:00:00</th>\n",
              "      <td>24.9175</td>\n",
              "      <td>24.3214</td>\n",
              "    </tr>\n",
              "    <tr>\n",
              "      <th>2015-04-02 15:15:00</th>\n",
              "      <td>24.9200</td>\n",
              "      <td>24.3308</td>\n",
              "    </tr>\n",
              "    <tr>\n",
              "      <th>2015-04-02 15:30:00</th>\n",
              "      <td>24.9250</td>\n",
              "      <td>24.3360</td>\n",
              "    </tr>\n",
              "    <tr>\n",
              "      <th>2015-04-02 15:45:00</th>\n",
              "      <td>24.9325</td>\n",
              "      <td>24.3411</td>\n",
              "    </tr>\n",
              "    <tr>\n",
              "      <th>2015-04-06 09:30:00</th>\n",
              "      <td>24.9475</td>\n",
              "      <td>24.3463</td>\n",
              "    </tr>\n",
              "  </tbody>\n",
              "</table>\n",
              "</div>"
            ],
            "text/plain": [
              "                     SMA_Fast  SMA_Slow\n",
              "date                                   \n",
              "2015-04-02 15:00:00   24.9175   24.3214\n",
              "2015-04-02 15:15:00   24.9200   24.3308\n",
              "2015-04-02 15:30:00   24.9250   24.3360\n",
              "2015-04-02 15:45:00   24.9325   24.3411\n",
              "2015-04-06 09:30:00   24.9475   24.3463"
            ]
          },
          "metadata": {
            "tags": []
          },
          "execution_count": 21
        }
      ]
    },
    {
      "cell_type": "code",
      "metadata": {
        "id": "8Ncs2WIRT8Lp",
        "colab": {
          "base_uri": "https://localhost:8080/",
          "height": 235
        },
        "outputId": "2e609f55-e510-45af-a4e6-d9d5182ce368"
      },
      "source": [
        "# Generate the X_test and y_test DataFrames\n",
        "X_test = X.loc[training_end+DateOffset(hours=1):]\n",
        "y_test = y.loc[training_end+DateOffset(hours=1):]\n",
        "\n",
        "# Review the X_test DataFrame\n",
        "X_test.head()"
      ],
      "execution_count": null,
      "outputs": [
        {
          "output_type": "execute_result",
          "data": {
            "text/html": [
              "<div>\n",
              "<style scoped>\n",
              "    .dataframe tbody tr th:only-of-type {\n",
              "        vertical-align: middle;\n",
              "    }\n",
              "\n",
              "    .dataframe tbody tr th {\n",
              "        vertical-align: top;\n",
              "    }\n",
              "\n",
              "    .dataframe thead th {\n",
              "        text-align: right;\n",
              "    }\n",
              "</style>\n",
              "<table border=\"1\" class=\"dataframe\">\n",
              "  <thead>\n",
              "    <tr style=\"text-align: right;\">\n",
              "      <th></th>\n",
              "      <th>SMA_Fast</th>\n",
              "      <th>SMA_Slow</th>\n",
              "    </tr>\n",
              "    <tr>\n",
              "      <th>date</th>\n",
              "      <th></th>\n",
              "      <th></th>\n",
              "    </tr>\n",
              "  </thead>\n",
              "  <tbody>\n",
              "    <tr>\n",
              "      <th>2015-04-02 15:00:00</th>\n",
              "      <td>24.9175</td>\n",
              "      <td>24.3214</td>\n",
              "    </tr>\n",
              "    <tr>\n",
              "      <th>2015-04-02 15:15:00</th>\n",
              "      <td>24.9200</td>\n",
              "      <td>24.3308</td>\n",
              "    </tr>\n",
              "    <tr>\n",
              "      <th>2015-04-02 15:30:00</th>\n",
              "      <td>24.9250</td>\n",
              "      <td>24.3360</td>\n",
              "    </tr>\n",
              "    <tr>\n",
              "      <th>2015-04-02 15:45:00</th>\n",
              "      <td>24.9325</td>\n",
              "      <td>24.3411</td>\n",
              "    </tr>\n",
              "    <tr>\n",
              "      <th>2015-04-06 09:30:00</th>\n",
              "      <td>24.9475</td>\n",
              "      <td>24.3463</td>\n",
              "    </tr>\n",
              "  </tbody>\n",
              "</table>\n",
              "</div>"
            ],
            "text/plain": [
              "                     SMA_Fast  SMA_Slow\n",
              "date                                   \n",
              "2015-04-02 15:00:00   24.9175   24.3214\n",
              "2015-04-02 15:15:00   24.9200   24.3308\n",
              "2015-04-02 15:30:00   24.9250   24.3360\n",
              "2015-04-02 15:45:00   24.9325   24.3411\n",
              "2015-04-06 09:30:00   24.9475   24.3463"
            ]
          },
          "metadata": {
            "tags": []
          },
          "execution_count": 22
        }
      ]
    },
    {
      "cell_type": "code",
      "metadata": {
        "id": "cHGtmfRdT8Lp"
      },
      "source": [
        "# Scale the features DataFrames\n",
        "\n",
        "# Create a StandardScaler instance\n",
        "scaler = StandardScaler()\n",
        "\n",
        "# Apply the scaler model to fit the X-train data\n",
        "X_scaler = scaler.fit(X_train)\n",
        "\n",
        "# Transform the X_train and X_test DataFrames using the X_scaler\n",
        "X_train_scaled = X_scaler.transform(X_train)\n",
        "X_test_scaled = X_scaler.transform(X_test)"
      ],
      "execution_count": null,
      "outputs": []
    },
    {
      "cell_type": "markdown",
      "metadata": {
        "id": "JVw1r1K7T8Lq"
      },
      "source": [
        "### Step 4: Use the `SVC` classifier model from SKLearn's support vector machine (SVM) learning method to fit the training data and make predictions based on the testing data. Review the predictions."
      ]
    },
    {
      "cell_type": "code",
      "metadata": {
        "colab": {
          "base_uri": "https://localhost:8080/"
        },
        "id": "6372JLxyT8Lq",
        "outputId": "b136b78d-11bf-4638-c1df-ece504372d51"
      },
      "source": [
        "# From SVM, instantiate SVC classifier model instance\n",
        "svm_model = SVC()\n",
        " \n",
        "# Fit the model to the data using the training data\n",
        "svm_model = svm_model.fit(X_train_scaled, y_train)\n",
        " \n",
        "# Use the testing data to make the model predictions\n",
        "svm_pred = svm_model.predict(X_test_scaled)\n",
        "\n",
        "# Review the model's predicted values\n",
        "svm_pred[:10]\n"
      ],
      "execution_count": null,
      "outputs": [
        {
          "output_type": "execute_result",
          "data": {
            "text/plain": [
              "array([1., 1., 1., 1., 1., 1., 1., 1., 1., 1.])"
            ]
          },
          "metadata": {
            "tags": []
          },
          "execution_count": 32
        }
      ]
    },
    {
      "cell_type": "markdown",
      "metadata": {
        "id": "nlMLpx1hT8Lq"
      },
      "source": [
        "### Step 5: Review the classification report associated with the `SVC` model predictions. "
      ]
    },
    {
      "cell_type": "code",
      "metadata": {
        "id": "7LeK50EIT8Lr",
        "colab": {
          "base_uri": "https://localhost:8080/"
        },
        "outputId": "05a84f46-e987-421e-c891-d136e9d07dad"
      },
      "source": [
        "#Import required modules\n",
        "from sklearn.metrics import classification_report\n",
        "\n",
        "# Use a classification report to evaluate the model using the predictions and testing data\n",
        "svm_testing_report = classification_report(y_test, svm_pred)\n",
        "\n",
        "\n",
        "# Print the classification report\n",
        "print(svm_testing_report)\n"
      ],
      "execution_count": null,
      "outputs": [
        {
          "output_type": "stream",
          "text": [
            "              precision    recall  f1-score   support\n",
            "\n",
            "        -1.0       0.43      0.04      0.07      1804\n",
            "         1.0       0.56      0.96      0.71      2288\n",
            "\n",
            "    accuracy                           0.55      4092\n",
            "   macro avg       0.49      0.50      0.39      4092\n",
            "weighted avg       0.50      0.55      0.43      4092\n",
            "\n"
          ],
          "name": "stdout"
        }
      ]
    },
    {
      "cell_type": "markdown",
      "metadata": {
        "id": "gd74oHDcT8Lr"
      },
      "source": [
        "### Step 6: Create a predictions DataFrame that contains columns for “Predicted” values, “Actual Returns”, and “Strategy Returns”."
      ]
    },
    {
      "cell_type": "markdown",
      "metadata": {
        "id": "lA_EeS1cMk_6"
      },
      "source": [
        ""
      ]
    },
    {
      "cell_type": "code",
      "metadata": {
        "colab": {
          "base_uri": "https://localhost:8080/",
          "height": 235
        },
        "id": "YfK4yr_BMsPW",
        "outputId": "ddc29e64-5d8d-464e-de5b-81eedea78a69"
      },
      "source": [
        "#create a prediction dataframe\n",
        "predictions_df = pd.DataFrame(index=y_test.index)\n",
        "predictions_df['predicted_signal'] = svm_pred\n",
        "predictions_df['Actual Returns'] = signals_df['Actual Returns']\n",
        "predictions_df['trading_algorithm_returns'] = (\n",
        "predictions_df['Actual Returns'] * predictions_df['predicted_signal']\n",
        ")\n",
        "#review the dataframe \n",
        "predictions_df.head()"
      ],
      "execution_count": null,
      "outputs": [
        {
          "output_type": "execute_result",
          "data": {
            "text/html": [
              "<div>\n",
              "<style scoped>\n",
              "    .dataframe tbody tr th:only-of-type {\n",
              "        vertical-align: middle;\n",
              "    }\n",
              "\n",
              "    .dataframe tbody tr th {\n",
              "        vertical-align: top;\n",
              "    }\n",
              "\n",
              "    .dataframe thead th {\n",
              "        text-align: right;\n",
              "    }\n",
              "</style>\n",
              "<table border=\"1\" class=\"dataframe\">\n",
              "  <thead>\n",
              "    <tr style=\"text-align: right;\">\n",
              "      <th></th>\n",
              "      <th>predicted_signal</th>\n",
              "      <th>Actual Returns</th>\n",
              "      <th>trading_algorithm_returns</th>\n",
              "    </tr>\n",
              "    <tr>\n",
              "      <th>date</th>\n",
              "      <th></th>\n",
              "      <th></th>\n",
              "      <th></th>\n",
              "    </tr>\n",
              "  </thead>\n",
              "  <tbody>\n",
              "    <tr>\n",
              "      <th>2015-07-06 10:00:00</th>\n",
              "      <td>1.0</td>\n",
              "      <td>-0.025715</td>\n",
              "      <td>-0.025715</td>\n",
              "    </tr>\n",
              "    <tr>\n",
              "      <th>2015-07-06 10:45:00</th>\n",
              "      <td>1.0</td>\n",
              "      <td>0.007237</td>\n",
              "      <td>0.007237</td>\n",
              "    </tr>\n",
              "    <tr>\n",
              "      <th>2015-07-06 14:15:00</th>\n",
              "      <td>1.0</td>\n",
              "      <td>-0.009721</td>\n",
              "      <td>-0.009721</td>\n",
              "    </tr>\n",
              "    <tr>\n",
              "      <th>2015-07-06 14:30:00</th>\n",
              "      <td>1.0</td>\n",
              "      <td>-0.003841</td>\n",
              "      <td>-0.003841</td>\n",
              "    </tr>\n",
              "    <tr>\n",
              "      <th>2015-07-07 11:30:00</th>\n",
              "      <td>1.0</td>\n",
              "      <td>-0.018423</td>\n",
              "      <td>-0.018423</td>\n",
              "    </tr>\n",
              "  </tbody>\n",
              "</table>\n",
              "</div>"
            ],
            "text/plain": [
              "                     predicted_signal  ...  trading_algorithm_returns\n",
              "date                                   ...                           \n",
              "2015-07-06 10:00:00               1.0  ...                  -0.025715\n",
              "2015-07-06 10:45:00               1.0  ...                   0.007237\n",
              "2015-07-06 14:15:00               1.0  ...                  -0.009721\n",
              "2015-07-06 14:30:00               1.0  ...                  -0.003841\n",
              "2015-07-07 11:30:00               1.0  ...                  -0.018423\n",
              "\n",
              "[5 rows x 3 columns]"
            ]
          },
          "metadata": {
            "tags": []
          },
          "execution_count": 40
        }
      ]
    },
    {
      "cell_type": "code",
      "metadata": {
        "id": "CVlgEMwcT8Lr"
      },
      "source": [
        ""
      ],
      "execution_count": null,
      "outputs": []
    },
    {
      "cell_type": "markdown",
      "metadata": {
        "id": "c9jsbpccT8Ls"
      },
      "source": [
        "### Step 7: Create a cumulative return plot that shows the actual returns vs. the strategy returns. Save a PNG image of this plot. This will serve as a baseline against which to compare the effects of tuning the trading algorithm."
      ]
    },
    {
      "cell_type": "code",
      "metadata": {
        "id": "Y_t3mO0lT8Ls"
      },
      "source": [
        "# Plot the actual returns versus the strategy returns\n",
        "# YOUR CODE HERE\n"
      ],
      "execution_count": null,
      "outputs": []
    },
    {
      "cell_type": "markdown",
      "metadata": {
        "id": "gl2HulRET8Lt"
      },
      "source": [
        "---\n",
        "\n",
        "## Tune the Baseline Trading Algorithm"
      ]
    },
    {
      "cell_type": "markdown",
      "metadata": {
        "id": "JVDzMcXcT8Lt"
      },
      "source": [
        "## Step 6: Use an Alternative ML Model and Evaluate Strategy Returns"
      ]
    },
    {
      "cell_type": "markdown",
      "metadata": {
        "id": "okIzWyWDT8Lt"
      },
      "source": [
        "In this section, you’ll tune, or adjust, the model’s input features to find the parameters that result in the best trading outcomes. You’ll choose the best by comparing the cumulative products of the strategy returns."
      ]
    },
    {
      "cell_type": "markdown",
      "metadata": {
        "id": "MTygs1zuT8Lt"
      },
      "source": [
        "### Step 1: Tune the training algorithm by adjusting the size of the training dataset. \n",
        "\n",
        "To do so, slice your data into different periods. Rerun the notebook with the updated parameters, and record the results in your `README.md` file. \n",
        "\n",
        "Answer the following question: What impact resulted from increasing or decreasing the training window?"
      ]
    },
    {
      "cell_type": "markdown",
      "metadata": {
        "id": "g_Ae-7wfT8Lt"
      },
      "source": [
        "### Step 2: Tune the trading algorithm by adjusting the SMA input features. \n",
        "\n",
        "Adjust one or both of the windows for the algorithm. Rerun the notebook with the updated parameters, and record the results in your `README.md` file. \n",
        "\n",
        "Answer the following question: What impact resulted from increasing or decreasing either or both of the SMA windows?"
      ]
    },
    {
      "cell_type": "markdown",
      "metadata": {
        "id": "VVyPoGk_T8Lu"
      },
      "source": [
        "### Step 3: Choose the set of parameters that best improved the trading algorithm returns. \n",
        "\n",
        "Save a PNG image of the cumulative product of the actual returns vs. the strategy returns, and document your conclusion in your `README.md` file."
      ]
    },
    {
      "cell_type": "markdown",
      "metadata": {
        "id": "Ucc8RKlsT8Lu"
      },
      "source": [
        "---\n",
        "\n",
        "## Evaluate a New Machine Learning Classifier\n",
        "\n",
        "In this section, you’ll use the original parameters that the starter code provided. But, you’ll apply them to the performance of a second machine learning model. "
      ]
    },
    {
      "cell_type": "markdown",
      "metadata": {
        "id": "NE0MGDGNT8Lv"
      },
      "source": [
        "### Step 1:  Import a new classifier, such as `AdaBoost`, `DecisionTreeClassifier`, or `LogisticRegression`. (For the full list of classifiers, refer to the [Supervised learning page](https://scikit-learn.org/stable/supervised_learning.html) in the scikit-learn documentation.)"
      ]
    },
    {
      "cell_type": "code",
      "metadata": {
        "id": "BTo5zuqAT8Lv"
      },
      "source": [
        "# Import a new classifier from SKLearn\n",
        "# YOUR CODE HERE\n",
        "\n",
        "# Initiate the model instance\n",
        "# YOUR CODE HERE\n"
      ],
      "execution_count": null,
      "outputs": []
    },
    {
      "cell_type": "markdown",
      "metadata": {
        "id": "OH2AD1IyT8Lv"
      },
      "source": [
        "### Step 2: Using the original training data as the baseline model, fit another model with the new classifier."
      ]
    },
    {
      "cell_type": "code",
      "metadata": {
        "id": "-zcwN5eFT8Lw"
      },
      "source": [
        "# Fit the model using the training data\n",
        "model = # YOUR CODE HERE\n",
        "\n",
        "# Use the testing dataset to generate the predictions for the new model\n",
        "pred = # YOUR CODE HERE\n",
        "\n",
        "# Review the model's predicted values\n",
        "# YOUR CODE HERE\n"
      ],
      "execution_count": null,
      "outputs": []
    },
    {
      "cell_type": "markdown",
      "metadata": {
        "id": "Y8wyIGGsT8Lw"
      },
      "source": [
        "### Step 3: Backtest the new model to evaluate its performance. \n",
        "\n",
        "Save a PNG image of the cumulative product of the actual returns vs. the strategy returns for this updated trading algorithm, and write your conclusions in your `README.md` file. \n",
        "\n",
        "Answer the following questions: \n",
        "Did this new model perform better or worse than the provided baseline model? \n",
        "Did this new model perform better or worse than your tuned trading algorithm?"
      ]
    },
    {
      "cell_type": "code",
      "metadata": {
        "id": "XeN5ZXzIT8Lw"
      },
      "source": [
        "# Use a classification report to evaluate the model using the predictions and testing data\n",
        "# YOUR CODE HERE\n",
        "\n",
        "# Print the classification report\n",
        "# YOUR CODE HERE\n"
      ],
      "execution_count": null,
      "outputs": []
    },
    {
      "cell_type": "code",
      "metadata": {
        "id": "K75Zii7BT8Lw"
      },
      "source": [
        "# Create a new empty predictions DataFrame.\n",
        "\n",
        "# Create a predictions DataFrame\n",
        "# YOUR CODE HERE\n",
        "\n",
        "# Add the SVM model predictions to the DataFrame\n",
        "# YOUR CODE HERE\n",
        "\n",
        "# Add the actual returns to the DataFrame\n",
        "# YOUR CODE HERE\n",
        "\n",
        "# Add the strategy returns to the DataFrame\n",
        "# YOUR CODE HERE\n",
        "\n",
        "# Review the DataFrame\n",
        "# YOUR CODE HERE\n"
      ],
      "execution_count": null,
      "outputs": []
    },
    {
      "cell_type": "code",
      "metadata": {
        "id": "Kb4rHf3ZT8Lx"
      },
      "source": [
        "# Plot the actual returns versus the strategy returns\n",
        "# YOUR CODE HERE"
      ],
      "execution_count": null,
      "outputs": []
    },
    {
      "cell_type": "code",
      "metadata": {
        "id": "_xZYU_MKT8Lx"
      },
      "source": [
        ""
      ],
      "execution_count": null,
      "outputs": []
    }
  ]
}